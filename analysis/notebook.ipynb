{
 "cells": [
  {
   "cell_type": "code",
   "metadata": {
    "is_executing": true,
    "ExecuteTime": {
     "end_time": "2024-05-29T03:08:31.406007Z",
     "start_time": "2024-05-29T03:08:11.545977Z"
    }
   },
   "source": [
    "import asyncio\n",
    "import itertools\n",
    "import datetime\n",
    "import random\n",
    "import collections\n",
    "\n",
    "import pandas\n",
    "\n",
    "import pipdepgraph.constants\n",
    "import pipdepgraph.entrypoints\n",
    "import pipdepgraph.entrypoints.common\n",
    "import pipdepgraph.pypi_api\n",
    "from pipdepgraph.repositories import (\n",
    "    direct_dependency_repository,\n",
    "    known_package_name_repository,\n",
    ")\n",
    "\n",
    "CLUSTER_HOST = \"tail-rpi-cluster-control-node\""
   ],
   "outputs": [],
   "execution_count": 1
  },
  {
   "cell_type": "code",
   "metadata": {
    "ExecuteTime": {
     "end_time": "2024-05-29T03:08:31.453670Z",
     "start_time": "2024-05-29T03:08:31.412389Z"
    }
   },
   "source": [
    "%load_ext autoreload\n",
    "%autoreload 2"
   ],
   "outputs": [],
   "execution_count": 2
  },
  {
   "cell_type": "code",
   "metadata": {
    "ExecuteTime": {
     "end_time": "2024-05-29T17:06:18.018206Z",
     "start_time": "2024-05-29T03:08:32.934445Z"
    }
   },
   "source": [
    "\n",
    "# Packages that don't show up in this list don't have any difference between their version\n",
    "# requirements between different distributions of the same version. If a package does show\n",
    "# up in this list, that makes the process of resolving dependencies much more difficult.\n",
    "\n",
    "async with pipdepgraph.entrypoints.common.initialize_client_session() as session:\n",
    "    pypi_client = pipdepgraph.pypi_api.PypiApi(session)\n",
    "    popular_packages = await pypi_client.get_popular_packages()\n",
    "\n",
    "packages_in_violation = []\n",
    "async with pipdepgraph.entrypoints.common.initialize_async_connection_pool(host=CLUSTER_HOST) as db_pool:\n",
    "    dd_repo = direct_dependency_repository.DirectDependencyRepository(db_pool)\n",
    "    packages_processed = 0\n",
    "\n",
    "    for popular_package in popular_packages.packages:\n",
    "        packages_processed += 1\n",
    "        direct_deps: list[direct_dependency_repository.DirectDependencyResult] = []\n",
    "        version_distribution_groups = collections.defaultdict(lambda: collections.defaultdict(set))\n",
    "\n",
    "        async for dd_of_package in dd_repo.iter_direct_dependencies(kv_package_name=popular_package.package_name, vd_package_type=\"bdist_wheel\", vd_processed=True, output_as_dict=False):\n",
    "            direct_deps.append(dd_of_package)\n",
    "            version_distribution_groups[dd_of_package.known_version.package_version][dd_of_package.version_distribution.version_distribution_id].add((\n",
    "                dd_of_package.direct_dependency.extras,\n",
    "                dd_of_package.direct_dependency.dependency_name,\n",
    "                None if dd_of_package.direct_dependency.dependency_extras is None else (\n",
    "                    ','.join(list(sorted(dd_of_package.direct_dependency.dependency_extras.split(','))))\n",
    "                ),\n",
    "                dd_of_package.direct_dependency.version_constraint,\n",
    "            ))\n",
    "\n",
    "        any_differences = False\n",
    "        versions_different = set()\n",
    "\n",
    "        for violating_version, dist_dd_sets in version_distribution_groups.items():\n",
    "            for dd_set_1, dd_set_2 in itertools.pairwise(dist_dd_sets.values()):\n",
    "                if dd_set_1 != dd_set_2:\n",
    "                    versions_different.add(violating_version)\n",
    "\n",
    "        if versions_different:\n",
    "            packages_in_violation.append((popular_package.package_name, versions_different, direct_deps))\n",
    "\n",
    "packages_processed, len(packages_in_violation)"
   ],
   "outputs": [
    {
     "name": "stderr",
     "output_type": "stream",
     "text": [
      "discarding closed connection: <psycopg.AsyncConnection [BAD] at 0x10aec8260>\n"
     ]
    },
    {
     "ename": "OperationalError",
     "evalue": "consuming input failed: server closed the connection unexpectedly\n\tThis probably means the server terminated abnormally\n\tbefore or while processing the request.",
     "output_type": "error",
     "traceback": [
      "\u001B[0;31m---------------------------------------------------------------------------\u001B[0m",
      "\u001B[0;31mOperationalError\u001B[0m                          Traceback (most recent call last)",
      "Cell \u001B[0;32mIn[3], line 19\u001B[0m\n\u001B[1;32m     16\u001B[0m direct_deps: \u001B[38;5;28mlist\u001B[39m[direct_dependency_repository\u001B[38;5;241m.\u001B[39mDirectDependencyResult] \u001B[38;5;241m=\u001B[39m []\n\u001B[1;32m     17\u001B[0m version_distribution_groups \u001B[38;5;241m=\u001B[39m collections\u001B[38;5;241m.\u001B[39mdefaultdict(\u001B[38;5;28;01mlambda\u001B[39;00m: collections\u001B[38;5;241m.\u001B[39mdefaultdict(\u001B[38;5;28mset\u001B[39m))\n\u001B[0;32m---> 19\u001B[0m \u001B[38;5;28;01masync\u001B[39;00m \u001B[38;5;28;01mfor\u001B[39;00m dd_of_package \u001B[38;5;129;01min\u001B[39;00m dd_repo\u001B[38;5;241m.\u001B[39miter_direct_dependencies(kv_package_name\u001B[38;5;241m=\u001B[39mpopular_package\u001B[38;5;241m.\u001B[39mpackage_name, vd_package_type\u001B[38;5;241m=\u001B[39m\u001B[38;5;124m\"\u001B[39m\u001B[38;5;124mbdist_wheel\u001B[39m\u001B[38;5;124m\"\u001B[39m, vd_processed\u001B[38;5;241m=\u001B[39m\u001B[38;5;28;01mTrue\u001B[39;00m, output_as_dict\u001B[38;5;241m=\u001B[39m\u001B[38;5;28;01mFalse\u001B[39;00m):\n\u001B[1;32m     20\u001B[0m     direct_deps\u001B[38;5;241m.\u001B[39mappend(dd_of_package)\n\u001B[1;32m     21\u001B[0m     version_distribution_groups[dd_of_package\u001B[38;5;241m.\u001B[39mknown_version\u001B[38;5;241m.\u001B[39mpackage_version][dd_of_package\u001B[38;5;241m.\u001B[39mversion_distribution\u001B[38;5;241m.\u001B[39mversion_distribution_id]\u001B[38;5;241m.\u001B[39madd((\n\u001B[1;32m     22\u001B[0m         dd_of_package\u001B[38;5;241m.\u001B[39mdirect_dependency\u001B[38;5;241m.\u001B[39mextras,\n\u001B[1;32m     23\u001B[0m         dd_of_package\u001B[38;5;241m.\u001B[39mdirect_dependency\u001B[38;5;241m.\u001B[39mdependency_name,\n\u001B[0;32m   (...)\u001B[0m\n\u001B[1;32m     27\u001B[0m         dd_of_package\u001B[38;5;241m.\u001B[39mdirect_dependency\u001B[38;5;241m.\u001B[39mversion_constraint,\n\u001B[1;32m     28\u001B[0m     ))\n",
      "File \u001B[0;32m~/work/research/pipdepgraph/pipdepgraph/repositories/direct_dependency_repository.py:165\u001B[0m, in \u001B[0;36mDirectDependencyRepository.iter_direct_dependencies\u001B[0;34m(self, kv_package_name, kv_package_version, vd_package_type, vd_processed, output_as_dict)\u001B[0m\n\u001B[1;32m    162\u001B[0m     query \u001B[38;5;241m+\u001B[39m\u001B[38;5;241m=\u001B[39m \u001B[38;5;124m\"\u001B[39m\u001B[38;5;124m (vd.processed = \u001B[39m\u001B[38;5;132;01m%s\u001B[39;00m\u001B[38;5;124m) \u001B[39m\u001B[38;5;124m\"\u001B[39m\n\u001B[1;32m    163\u001B[0m     params\u001B[38;5;241m.\u001B[39mappend(vd_processed)\n\u001B[0;32m--> 165\u001B[0m \u001B[38;5;28;01mawait\u001B[39;00m cursor\u001B[38;5;241m.\u001B[39mexecute(query, params)\n\u001B[1;32m    166\u001B[0m \u001B[38;5;28;01masync\u001B[39;00m \u001B[38;5;28;01mfor\u001B[39;00m record \u001B[38;5;129;01min\u001B[39;00m cursor:\n\u001B[1;32m    167\u001B[0m     \u001B[38;5;28;01myield\u001B[39;00m (\n\u001B[1;32m    168\u001B[0m         record\n\u001B[1;32m    169\u001B[0m         \u001B[38;5;28;01mif\u001B[39;00m output_as_dict\n\u001B[0;32m   (...)\u001B[0m\n\u001B[1;32m    177\u001B[0m         )\n\u001B[1;32m    178\u001B[0m     )\n",
      "File \u001B[0;32m~/Library/Caches/pypoetry/virtualenvs/pipdepgraph-dZj-LUek-py3.12/lib/python3.12/site-packages/psycopg/cursor_async.py:89\u001B[0m, in \u001B[0;36mAsyncCursor.execute\u001B[0;34m(self, query, params, prepare, binary)\u001B[0m\n\u001B[1;32m     85\u001B[0m         \u001B[38;5;28;01mawait\u001B[39;00m \u001B[38;5;28mself\u001B[39m\u001B[38;5;241m.\u001B[39m_conn\u001B[38;5;241m.\u001B[39mwait(\n\u001B[1;32m     86\u001B[0m             \u001B[38;5;28mself\u001B[39m\u001B[38;5;241m.\u001B[39m_execute_gen(query, params, prepare\u001B[38;5;241m=\u001B[39mprepare, binary\u001B[38;5;241m=\u001B[39mbinary)\n\u001B[1;32m     87\u001B[0m         )\n\u001B[1;32m     88\u001B[0m \u001B[38;5;28;01mexcept\u001B[39;00m e\u001B[38;5;241m.\u001B[39m_NO_TRACEBACK \u001B[38;5;28;01mas\u001B[39;00m ex:\n\u001B[0;32m---> 89\u001B[0m     \u001B[38;5;28;01mraise\u001B[39;00m ex\u001B[38;5;241m.\u001B[39mwith_traceback(\u001B[38;5;28;01mNone\u001B[39;00m)\n\u001B[1;32m     90\u001B[0m \u001B[38;5;28;01mreturn\u001B[39;00m \u001B[38;5;28mself\u001B[39m\n",
      "\u001B[0;31mOperationalError\u001B[0m: consuming input failed: server closed the connection unexpectedly\n\tThis probably means the server terminated abnormally\n\tbefore or while processing the request."
     ]
    }
   ],
   "execution_count": 3
  },
  {
   "cell_type": "code",
   "execution_count": 27,
   "metadata": {},
   "outputs": [],
   "source": [
    "def analyze_violating_package(\n",
    "        violating_package_name: str,\n",
    "        violating_versions: set[str],\n",
    "        direct_deps: list[direct_dependency_repository.DirectDependencyResult]\n",
    "    ):\n",
    "\n",
    "    for violating_version in violating_versions:\n",
    "        version_distributions = {\n",
    "            dd.version_distribution.package_filename\n",
    "            for dd in direct_deps\n",
    "            if dd.known_version.package_version == violating_version\n",
    "        }\n",
    "\n",
    "        dep_group = collections.defaultdict(list)\n",
    "        for dep in direct_deps:\n",
    "            dep: direct_dependency_repository.DirectDependencyResult\n",
    "            if dep.known_version.package_version == violating_version:\n",
    "                dep_group[(\n",
    "                    dep.direct_dependency.extras,\n",
    "                    dep.direct_dependency.dependency_name,\n",
    "                    None if dd_of_package.direct_dependency.dependency_extras is None else (\n",
    "                        ','.join(list(sorted(dd_of_package.direct_dependency.dependency_extras.split(','))))\n",
    "                    ),\n",
    "                    dep.direct_dependency.version_constraint,\n",
    "                )].append(dep.version_distribution.package_filename)\n",
    "        ...\n",
    "\n",
    "analyze_violating_package(*random.choice(packages_in_violation))"
   ]
  },
  {
   "cell_type": "code",
   "execution_count": 25,
   "metadata": {},
   "outputs": [
    {
     "data": {
      "text/plain": [
       "180"
      ]
     },
     "execution_count": 25,
     "metadata": {},
     "output_type": "execute_result"
    }
   ],
   "source": []
  },
  {
   "cell_type": "code",
   "execution_count": null,
   "metadata": {},
   "outputs": [],
   "source": []
  }
 ],
 "metadata": {
  "kernelspec": {
   "display_name": "pipdepgraph-RwquzSMC-py3.12",
   "language": "python",
   "name": "python3"
  },
  "language_info": {
   "codemirror_mode": {
    "name": "ipython",
    "version": 3
   },
   "file_extension": ".py",
   "mimetype": "text/x-python",
   "name": "python",
   "nbconvert_exporter": "python",
   "pygments_lexer": "ipython3",
   "version": "3.12.0"
  }
 },
 "nbformat": 4,
 "nbformat_minor": 2
}
