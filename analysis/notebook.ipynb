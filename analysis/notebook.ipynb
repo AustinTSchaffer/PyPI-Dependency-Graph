{
 "cells": [
  {
   "cell_type": "code",
   "execution_count": 2,
   "metadata": {},
   "outputs": [],
   "source": [
    "import asyncio\n",
    "import itertools\n",
    "import datetime\n",
    "\n",
    "import pandas\n",
    "\n",
    "import pipdepgraph\n",
    "import pipdepgraph.entrypoints\n",
    "import pipdepgraph.entrypoints.common\n",
    "from pipdepgraph.repositories import (\n",
    "    direct_dependency_repository,\n",
    "    known_package_name_repository,\n",
    ")\n"
   ]
  },
  {
   "cell_type": "code",
   "execution_count": 3,
   "metadata": {},
   "outputs": [],
   "source": [
    "%load_ext autoreload\n",
    "%autoreload 2"
   ]
  },
  {
   "cell_type": "code",
   "execution_count": 5,
   "metadata": {},
   "outputs": [],
   "source": [
    "import collections\n",
    "\n",
    "packages_in_violation = []\n",
    "packages_processed = 0\n",
    "async with pipdepgraph.entrypoints.common.initialize_async_connection_pool() as db_pool:\n",
    "    dd_repo = direct_dependency_repository.DirectDependencyRepository(db_pool)\n",
    "    kpn_repo = known_package_name_repository.KnownPackageNameRepository(db_pool)\n",
    "    async for package_name in kpn_repo.iter_known_package_names(date_last_checked_before=datetime.datetime.now()):\n",
    "        direct_dependencies: list[direct_dependency_repository.DirectDependencyResult] = []\n",
    "        version_distribution_groups = collections.defaultdict(lambda: collections.defaultdict(set))\n",
    "        async for dd_of_package in dd_repo.iter_direct_dependencies(kv_package_name=package_name.package_name, vd_package_type=\"bdist_wheel\", vd_processed=True, output_as_dict=False):\n",
    "            direct_dependencies.append(dd_of_package)\n",
    "            version_distribution_groups[dd_of_package.known_version.package_version][dd_of_package.version_distribution.version_distribution_id].add((\n",
    "                dd_of_package.direct_dependency.extras,\n",
    "                dd_of_package.direct_dependency.dependency_name,\n",
    "                dd_of_package.direct_dependency.dependency_extras,\n",
    "                dd_of_package.direct_dependency.version_constraint,\n",
    "            ))\n",
    "\n",
    "        any_differences = False\n",
    "        for version, distributions in version_distribution_groups.items():\n",
    "            for d1, d2 in itertools.pairwise(distributions.values()):\n",
    "                any_differences = True\n",
    "                break\n",
    "            if any_differences:\n",
    "                break\n",
    "        if any_differences:\n",
    "            packages_in_violation.append(package_name)\n"
   ]
  },
  {
   "cell_type": "code",
   "execution_count": 7,
   "metadata": {},
   "outputs": [
    {
     "data": {
      "text/plain": [
       "246"
      ]
     },
     "execution_count": 7,
     "metadata": {},
     "output_type": "execute_result"
    }
   ],
   "source": [
    "len(packages_in_violation)"
   ]
  },
  {
   "cell_type": "code",
   "execution_count": null,
   "metadata": {},
   "outputs": [],
   "source": [
    "\n",
    "async with pipdepgraph.entrypoints.common.initialize_async_connection_pool() as db_pool:\n",
    "    dd_repo = direct_dependency_repository.DirectDependencyRepository(db_pool)\n",
    "    kpn_repo = known_package_name_repository.KnownPackageNameRepository(db_pool)\n",
    "\n",
    "    direct_dependencies: list[direct_dependency_repository.DirectDependencyResult] = []\n",
    "    dds_by_vdid_lookup = collections.defaultdict(list)\n",
    "    version_distribution_groups = collections.defaultdict(lambda: collections.defaultdict(set))\n",
    "    async for dd_of_package in dd_repo.iter_direct_dependencies(kv_package_name='cryptography', vd_package_type=\"bdist_wheel\", vd_processed=True, output_as_dict=False):\n",
    "        direct_dependencies.append(dd_of_package)\n",
    "        dds_by_vdid_lookup[dd_of_package.version_distribution.version_distribution_id].append(dd_of_package)\n",
    "\n",
    "        version_distribution_groups[dd_of_package.known_version.package_version][dd_of_package.version_distribution.version_distribution_id].add((\n",
    "            # dds_of_package.direct_dependency.extras,\n",
    "            dd_of_package.direct_dependency.dependency_name,\n",
    "            dd_of_package.direct_dependency.dependency_extras,\n",
    "            dd_of_package.direct_dependency.version_constraint,\n",
    "        ))\n",
    "\n",
    "    for version, distributions in version_distribution_groups.items():\n",
    "        for d1, d2 in itertools.pairwise(distributions.items()):\n",
    "            if d1[1] != d2[1]:\n",
    "                dds_1 = dds_by_vdid_lookup[d1[0]]\n",
    "                dds_2 = dds_by_vdid_lookup[d2[0]]\n"
   ]
  },
  {
   "cell_type": "code",
   "execution_count": null,
   "metadata": {},
   "outputs": [],
   "source": []
  }
 ],
 "metadata": {
  "kernelspec": {
   "display_name": "pipdepgraph-RwquzSMC-py3.12",
   "language": "python",
   "name": "python3"
  },
  "language_info": {
   "codemirror_mode": {
    "name": "ipython",
    "version": 3
   },
   "file_extension": ".py",
   "mimetype": "text/x-python",
   "name": "python",
   "nbconvert_exporter": "python",
   "pygments_lexer": "ipython3",
   "version": "3.12.0"
  }
 },
 "nbformat": 4,
 "nbformat_minor": 2
}
